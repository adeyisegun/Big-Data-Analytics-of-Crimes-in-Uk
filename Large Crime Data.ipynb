{
 "cells": [
  {
   "cell_type": "markdown",
   "metadata": {},
   "source": [
    "# Scenerio\n",
    "In the television documentary “Ross Kemp and the Armed Police” broadcast 6th September 2018 by ITV, multiple claims were made regarding violent crime in the UK.\n",
    "\n",
    "These claims were:\n",
    "\n",
    "1. Violent Crime is increasing.\n",
    "2. There are more firearms incidents per head in Birmingham than anywhere else in the UK.\n",
    "3. Crimes involving firearms are closely associated with drugs offences."
   ]
  },
  {
   "cell_type": "markdown",
   "metadata": {},
   "source": [
    "# 1. Introduction"
   ]
  },
  {
   "cell_type": "markdown",
   "metadata": {},
   "source": [
    "## 1.1 Datasets Used\n",
    "1. crimes data: This is the primary dataset used for this analysis, it has crime records in UK from 2010 to 2018. It has about 47 million records. It is publicly available at https://data.police.uk/data/ .\n",
    "2. Population data by LSOA: a dataset that contains LSOA codes and various population information.\n",
    "3. English Indices of Deprivation: This dataset contains detailed information about the cities found in UK, pulblicly available on  https://www.gov.uk/government/statistics/english-indices-of-deprivation-2019 .\n"
   ]
  },
  {
   "cell_type": "markdown",
   "metadata": {},
   "source": [
    "## 1.2 Tools\n",
    "Apache spark syntaxes through python API (Pyspark) were used most of the time. Python syntaxes were majorly used when pyspark dataframes were converted to pandas dataframes. The python libraries used were Numpy, Pandas, Matplotlib, Seaborn."
   ]
  },
  {
   "cell_type": "code",
   "execution_count": 1,
   "metadata": {},
   "outputs": [],
   "source": [
    "from pyspark.sql import SparkSession\n",
    "spark = SparkSession\\\n",
    ".builder\\\n",
    ".appName(\"Crimes_large\")\\\n",
    ".config(\"spark.some.config.option\", \"some-value\")\\\n",
    ".getOrCreate()"
   ]
  },
  {
   "cell_type": "code",
   "execution_count": 2,
   "metadata": {},
   "outputs": [
    {
     "data": {
      "text/html": [
       "\n",
       "            <div>\n",
       "                <p><b>SparkSession - in-memory</b></p>\n",
       "                \n",
       "        <div>\n",
       "            <p><b>SparkContext</b></p>\n",
       "\n",
       "            <p><a href=\"http://KELVIN.mshome.net:4041\">Spark UI</a></p>\n",
       "\n",
       "            <dl>\n",
       "              <dt>Version</dt>\n",
       "                <dd><code>v3.0.1</code></dd>\n",
       "              <dt>Master</dt>\n",
       "                <dd><code>local[*]</code></dd>\n",
       "              <dt>AppName</dt>\n",
       "                <dd><code>Crimes_large</code></dd>\n",
       "            </dl>\n",
       "        </div>\n",
       "        \n",
       "            </div>\n",
       "        "
      ],
      "text/plain": [
       "<pyspark.sql.session.SparkSession at 0x1e68a23b700>"
      ]
     },
     "execution_count": 2,
     "metadata": {},
     "output_type": "execute_result"
    }
   ],
   "source": [
    "spark"
   ]
  },
  {
   "cell_type": "markdown",
   "metadata": {},
   "source": [
    "To be able to use spark Dataframe in python, an entry point needs to be established. This entry point is called Spark Session (represented as \"spark\" in the codes below).\n",
    "\n",
    "A SparkSession can be used to create DataFrame, register DataFrame as tables, execute SQL over tables, cache tables, and read parquet files."
   ]
  },
  {
   "cell_type": "markdown",
   "metadata": {},
   "source": [
    "# 2 Data Importation"
   ]
  },
  {
   "cell_type": "code",
   "execution_count": 22,
   "metadata": {},
   "outputs": [],
   "source": [
    "## Import crime data \n",
    "df = spark.read.load(\"all_crimes18_hdr.txt\", \n",
    "                         header = True, inferSchema = True, format = 'csv', sep = ',')"
   ]
  },
  {
   "cell_type": "code",
   "execution_count": 146,
   "metadata": {},
   "outputs": [
    {
     "name": "stdout",
     "output_type": "stream",
     "text": [
      "root\n",
      " |-- Crime ID: string (nullable = true)\n",
      " |-- Month: string (nullable = true)\n",
      " |-- Reported by: string (nullable = true)\n",
      " |-- Falls within: string (nullable = true)\n",
      " |-- Longitude: double (nullable = true)\n",
      " |-- Latitude: double (nullable = true)\n",
      " |-- Location: string (nullable = true)\n",
      " |-- LSOA code: string (nullable = true)\n",
      " |-- LSOA name: string (nullable = true)\n",
      " |-- Crime type: string (nullable = true)\n",
      " |-- Last outcome category: string (nullable = true)\n",
      " |-- Context: string (nullable = true)\n",
      "\n"
     ]
    }
   ],
   "source": [
    "df.printSchemantSchema()"
   ]
  },
  {
   "cell_type": "markdown",
   "metadata": {},
   "source": [
    "The spark.read.load() function was used to load the data into the console. The header option was set to \"True\" in this section. The data already contained defined data types for each column(.printSchema() method was used to confirm), hence the need to set inferSchema as \"True\". format and sep were set as \"csv\" and \",\" respectively, because the file being imported is a delimited text file that used a comma to separate values."
   ]
  },
  {
   "cell_type": "code",
   "execution_count": 23,
   "metadata": {},
   "outputs": [
    {
     "name": "stdout",
     "output_type": "stream",
     "text": [
      "+--------+-------+--------------------+--------------------+---------+---------+--------------------+---------+--------------------+--------------------+---------------------+-------+\n",
      "|Crime ID|  Month|         Reported by|        Falls within|Longitude| Latitude|            Location|LSOA code|           LSOA name|          Crime type|Last outcome category|Context|\n",
      "+--------+-------+--------------------+--------------------+---------+---------+--------------------+---------+--------------------+--------------------+---------------------+-------+\n",
      "|    null|2010-12|Avon and Somerset...|Avon and Somerset...|  -0.8056|51.819143|On or near Norfol...|E01017662| Aylesbury Vale 015C|         Other crime|                 null|   null|\n",
      "|    null|2010-12|Avon and Somerset...|Avon and Somerset...|-2.494366|51.418169|On or near Keynsh...|E01014399|Bath and North Ea...|Anti-social behav...|                 null|   null|\n",
      "|    null|2010-12|Avon and Somerset...|Avon and Somerset...|-2.511927|51.409435|On or near Harlec...|E01014399|Bath and North Ea...|Anti-social behav...|                 null|   null|\n",
      "|    null|2010-12|Avon and Somerset...|Avon and Somerset...|-2.511571|51.414895|On or near Orchar...|E01014399|Bath and North Ea...|Anti-social behav...|                 null|   null|\n",
      "|    null|2010-12|Avon and Somerset...|Avon and Somerset...|-2.511927|51.409435|On or near Harlec...|E01014399|Bath and North Ea...|Anti-social behav...|                 null|   null|\n",
      "+--------+-------+--------------------+--------------------+---------+---------+--------------------+---------+--------------------+--------------------+---------------------+-------+\n",
      "only showing top 5 rows\n",
      "\n"
     ]
    }
   ],
   "source": [
    "## View first 5 records of crime using the .show() method\n",
    "df.show(5)"
   ]
  },
  {
   "cell_type": "code",
   "execution_count": 24,
   "metadata": {},
   "outputs": [
    {
     "data": {
      "text/plain": [
       "[Row(Crime ID=None, Month='2010-12', Reported by='Avon and Somerset Constabulary', Falls within='Avon and Somerset Constabulary', Longitude=-0.8056, Latitude=51.819143, Location='On or near Norfolk Terrace', LSOA code='E01017662', LSOA name='Aylesbury Vale 015C', Crime type='Other crime', Last outcome category=None, Context=None),\n",
       " Row(Crime ID=None, Month='2010-12', Reported by='Avon and Somerset Constabulary', Falls within='Avon and Somerset Constabulary', Longitude=-2.494366, Latitude=51.418169, Location='On or near Keynsham Road', LSOA code='E01014399', LSOA name='Bath and North East Somerset 001A', Crime type='Anti-social behaviour', Last outcome category=None, Context=None),\n",
       " Row(Crime ID=None, Month='2010-12', Reported by='Avon and Somerset Constabulary', Falls within='Avon and Somerset Constabulary', Longitude=-2.511927, Latitude=51.409435, Location='On or near Harlech Close', LSOA code='E01014399', LSOA name='Bath and North East Somerset 001A', Crime type='Anti-social behaviour', Last outcome category=None, Context=None),\n",
       " Row(Crime ID=None, Month='2010-12', Reported by='Avon and Somerset Constabulary', Falls within='Avon and Somerset Constabulary', Longitude=-2.511571, Latitude=51.414895, Location='On or near Orchard Close', LSOA code='E01014399', LSOA name='Bath and North East Somerset 001A', Crime type='Anti-social behaviour', Last outcome category=None, Context=None),\n",
       " Row(Crime ID=None, Month='2010-12', Reported by='Avon and Somerset Constabulary', Falls within='Avon and Somerset Constabulary', Longitude=-2.511927, Latitude=51.409435, Location='On or near Harlech Close', LSOA code='E01014399', LSOA name='Bath and North East Somerset 001A', Crime type='Anti-social behaviour', Last outcome category=None, Context=None)]"
      ]
     },
     "execution_count": 24,
     "metadata": {},
     "output_type": "execute_result"
    }
   ],
   "source": [
    "## View first 5 records of crime using the .head() method\n",
    "df.head(5)"
   ]
  },
  {
   "cell_type": "markdown",
   "metadata": {},
   "source": [
    "# 3. Data Cleaning"
   ]
  },
  {
   "cell_type": "code",
   "execution_count": 25,
   "metadata": {},
   "outputs": [
    {
     "data": {
      "text/plain": [
       "['Crime ID',\n",
       " 'Month',\n",
       " 'Reported by',\n",
       " 'Falls within',\n",
       " 'Longitude',\n",
       " 'Latitude',\n",
       " 'Location',\n",
       " 'LSOA code',\n",
       " 'LSOA name',\n",
       " 'Crime type',\n",
       " 'Last outcome category',\n",
       " 'Context']"
      ]
     },
     "execution_count": 25,
     "metadata": {},
     "output_type": "execute_result"
    }
   ],
   "source": [
    "## View columns of crime\n",
    "df.columns"
   ]
  },
  {
   "cell_type": "markdown",
   "metadata": {},
   "source": [
    "The .columns attribute was used to check the column names of the data."
   ]
  },
  {
   "cell_type": "code",
   "execution_count": 26,
   "metadata": {},
   "outputs": [
    {
     "data": {
      "text/plain": [
       "46986836"
      ]
     },
     "execution_count": 26,
     "metadata": {},
     "output_type": "execute_result"
    }
   ],
   "source": [
    "## How many records are in the dataset\n",
    "df.count()"
   ]
  },
  {
   "cell_type": "code",
   "execution_count": 30,
   "metadata": {},
   "outputs": [
    {
     "name": "stdout",
     "output_type": "stream",
     "text": [
      "+--------+-----+-----------+------------+---------+--------+--------+---------+---------+----------+---------------------+--------+\n",
      "|Crime ID|Month|Reported by|Falls within|Longitude|Latitude|Location|LSOA code|LSOA name|Crime type|Last outcome category| Context|\n",
      "+--------+-----+-----------+------------+---------+--------+--------+---------+---------+----------+---------------------+--------+\n",
      "|19767343|    0|          0|           0|   598746|  598746|       0|  1717377|  1717377|         0|             21669569|46864431|\n",
      "+--------+-----+-----------+------------+---------+--------+--------+---------+---------+----------+---------------------+--------+\n",
      "\n"
     ]
    }
   ],
   "source": [
    "## Check for missing data in crime_s\n",
    "from pyspark.sql.functions import isnan, when, count, col\n",
    "\n",
    "df.select([count(when(isnan(c) | col(c).isNull(), c)).alias(c) for c in df.columns]).show()"
   ]
  },
  {
   "cell_type": "markdown",
   "metadata": {},
   "source": [
    "Didn't clean anything...lol"
   ]
  },
  {
   "cell_type": "markdown",
   "metadata": {},
   "source": [
    "# What are the unique crime_types?"
   ]
  },
  {
   "cell_type": "code",
   "execution_count": 31,
   "metadata": {},
   "outputs": [
    {
     "name": "stdout",
     "output_type": "stream",
     "text": [
      "+--------------------+\n",
      "|          crime type|\n",
      "+--------------------+\n",
      "|       Bicycle theft|\n",
      "|        Public order|\n",
      "|               Drugs|\n",
      "|Public disorder a...|\n",
      "|         Other crime|\n",
      "|             Robbery|\n",
      "|Criminal damage a...|\n",
      "|Theft from the pe...|\n",
      "|         Shoplifting|\n",
      "|            Burglary|\n",
      "|       Violent crime|\n",
      "|         Other theft|\n",
      "|Possession of wea...|\n",
      "|Violence and sexu...|\n",
      "|       Vehicle crime|\n",
      "|Anti-social behav...|\n",
      "+--------------------+\n",
      "\n"
     ]
    }
   ],
   "source": [
    "df.select('crime type').distinct().show()"
   ]
  },
  {
   "cell_type": "markdown",
   "metadata": {},
   "source": [
    "The .distinct() method selects unique records in specified column."
   ]
  },
  {
   "cell_type": "markdown",
   "metadata": {},
   "source": [
    "# 4. Exploratory Data Analysis"
   ]
  },
  {
   "cell_type": "code",
   "execution_count": 32,
   "metadata": {},
   "outputs": [],
   "source": [
    "## Import Python libraries\n",
    "import pandas as pd\n",
    "import numpy as np\n",
    "import matplotlib.pyplot as plt\n",
    "import seaborn as sns"
   ]
  },
  {
   "cell_type": "markdown",
   "metadata": {},
   "source": [
    "For visualization and Data Wrangling the following libraries were imported:\n",
    "\n",
    "Pandas: Works on dataframes and used in manipulating data.\n",
    "\n",
    "Numpy: Used in numerical and scientific computing.\n",
    "\n",
    "Matplotlib: good at generating 2D graphs and Diagrams.\n",
    "\n",
    "Seaborn: built on matplotlib, is best for visualizing statistical models"
   ]
  },
  {
   "cell_type": "markdown",
   "metadata": {},
   "source": [
    "## What are the most committed crimes?"
   ]
  },
  {
   "cell_type": "code",
   "execution_count": 34,
   "metadata": {},
   "outputs": [
    {
     "name": "stdout",
     "output_type": "stream",
     "text": [
      "+--------------------+--------+\n",
      "|          crime type|   count|\n",
      "+--------------------+--------+\n",
      "|Anti-social behav...|15876250|\n",
      "|Violence and sexu...| 6133400|\n",
      "|         Other theft| 3956921|\n",
      "|Criminal damage a...| 3885799|\n",
      "|            Burglary| 3408006|\n",
      "|       Vehicle crime| 3051786|\n",
      "|         Shoplifting| 2375662|\n",
      "|         Other crime| 2271353|\n",
      "|       Violent crime| 1673219|\n",
      "|        Public order| 1319261|\n",
      "|               Drugs| 1163898|\n",
      "|       Bicycle theft|  502403|\n",
      "|             Robbery|  490243|\n",
      "|Theft from the pe...|  477465|\n",
      "|Public disorder a...|  242145|\n",
      "|Possession of wea...|  159025|\n",
      "+--------------------+--------+\n",
      "\n"
     ]
    }
   ],
   "source": [
    "## The most committed crime types\n",
    "df_count = df.groupBy('crime type').count()\n",
    "df_count.orderBy(df_count['count'].desc()).show()"
   ]
  },
  {
   "cell_type": "code",
   "execution_count": 35,
   "metadata": {},
   "outputs": [
    {
     "data": {
      "text/html": [
       "<div>\n",
       "<style scoped>\n",
       "    .dataframe tbody tr th:only-of-type {\n",
       "        vertical-align: middle;\n",
       "    }\n",
       "\n",
       "    .dataframe tbody tr th {\n",
       "        vertical-align: top;\n",
       "    }\n",
       "\n",
       "    .dataframe thead th {\n",
       "        text-align: right;\n",
       "    }\n",
       "</style>\n",
       "<table border=\"1\" class=\"dataframe\">\n",
       "  <thead>\n",
       "    <tr style=\"text-align: right;\">\n",
       "      <th></th>\n",
       "      <th>crime type</th>\n",
       "      <th>count</th>\n",
       "    </tr>\n",
       "  </thead>\n",
       "  <tbody>\n",
       "    <tr>\n",
       "      <th>0</th>\n",
       "      <td>Bicycle theft</td>\n",
       "      <td>502403</td>\n",
       "    </tr>\n",
       "    <tr>\n",
       "      <th>1</th>\n",
       "      <td>Public order</td>\n",
       "      <td>1319261</td>\n",
       "    </tr>\n",
       "    <tr>\n",
       "      <th>2</th>\n",
       "      <td>Drugs</td>\n",
       "      <td>1163898</td>\n",
       "    </tr>\n",
       "    <tr>\n",
       "      <th>3</th>\n",
       "      <td>Public disorder and weapons</td>\n",
       "      <td>242145</td>\n",
       "    </tr>\n",
       "    <tr>\n",
       "      <th>4</th>\n",
       "      <td>Other crime</td>\n",
       "      <td>2271353</td>\n",
       "    </tr>\n",
       "    <tr>\n",
       "      <th>5</th>\n",
       "      <td>Robbery</td>\n",
       "      <td>490243</td>\n",
       "    </tr>\n",
       "    <tr>\n",
       "      <th>6</th>\n",
       "      <td>Criminal damage and arson</td>\n",
       "      <td>3885799</td>\n",
       "    </tr>\n",
       "    <tr>\n",
       "      <th>7</th>\n",
       "      <td>Theft from the person</td>\n",
       "      <td>477465</td>\n",
       "    </tr>\n",
       "    <tr>\n",
       "      <th>8</th>\n",
       "      <td>Shoplifting</td>\n",
       "      <td>2375662</td>\n",
       "    </tr>\n",
       "    <tr>\n",
       "      <th>9</th>\n",
       "      <td>Burglary</td>\n",
       "      <td>3408006</td>\n",
       "    </tr>\n",
       "    <tr>\n",
       "      <th>10</th>\n",
       "      <td>Violent crime</td>\n",
       "      <td>1673219</td>\n",
       "    </tr>\n",
       "    <tr>\n",
       "      <th>11</th>\n",
       "      <td>Other theft</td>\n",
       "      <td>3956921</td>\n",
       "    </tr>\n",
       "    <tr>\n",
       "      <th>12</th>\n",
       "      <td>Possession of weapons</td>\n",
       "      <td>159025</td>\n",
       "    </tr>\n",
       "    <tr>\n",
       "      <th>13</th>\n",
       "      <td>Violence and sexual offences</td>\n",
       "      <td>6133400</td>\n",
       "    </tr>\n",
       "    <tr>\n",
       "      <th>14</th>\n",
       "      <td>Vehicle crime</td>\n",
       "      <td>3051786</td>\n",
       "    </tr>\n",
       "    <tr>\n",
       "      <th>15</th>\n",
       "      <td>Anti-social behaviour</td>\n",
       "      <td>15876250</td>\n",
       "    </tr>\n",
       "  </tbody>\n",
       "</table>\n",
       "</div>"
      ],
      "text/plain": [
       "                      crime type     count\n",
       "0                  Bicycle theft    502403\n",
       "1                   Public order   1319261\n",
       "2                          Drugs   1163898\n",
       "3    Public disorder and weapons    242145\n",
       "4                    Other crime   2271353\n",
       "5                        Robbery    490243\n",
       "6      Criminal damage and arson   3885799\n",
       "7          Theft from the person    477465\n",
       "8                    Shoplifting   2375662\n",
       "9                       Burglary   3408006\n",
       "10                 Violent crime   1673219\n",
       "11                   Other theft   3956921\n",
       "12         Possession of weapons    159025\n",
       "13  Violence and sexual offences   6133400\n",
       "14                 Vehicle crime   3051786\n",
       "15         Anti-social behaviour  15876250"
      ]
     },
     "execution_count": 35,
     "metadata": {},
     "output_type": "execute_result"
    }
   ],
   "source": [
    "## Convert to Pandas DF\n",
    "df_countpd = df_count.toPandas()\n",
    "df_countpd"
   ]
  },
  {
   "cell_type": "code",
   "execution_count": 36,
   "metadata": {},
   "outputs": [
    {
     "data": {
      "image/png": "[encoded data removed]",
      "text/plain": [
       "<Figure size 360x360 with 1 Axes>"
      ]
     },
     "metadata": {
      "needs_background": "light"
     },
     "output_type": "display_data"
    }
   ],
   "source": [
    "# Crime Type plot\n",
    "sns.catplot(x= \"count\", y= \"crime type\",data = df_countpd, kind= \"bar\",ci=None).set(title = 'Crime Category Count')\n",
    "plt.show()"
   ]
  },
  {
   "cell_type": "markdown",
   "metadata": {},
   "source": [
    "The .groupBy() and .count() pair groups data by a certain categorical variable and counts the occurrence of individual class within that categorical variable. Secondly, the .orderBy() and .desc() method was used to order the crime_type count in a descending order, this revealed that the top 3 crime types in the dataset are 'Violence and sexual offences', 'Anti-social behaviour' and 'Other theft'. 'Anti-social behaviour' was the highest crime type with a total of 15876250 crime incidents.\n",
    "\n",
    "To be able plot bar charts, the counts dataframe had to be converted from pyspark dataframe to pandas dataframe using the .toPandas() method since pyspark lacks visualization functions.\n",
    "\n",
    "Finally, the catplot function from the Seaborn package was used to make bar plots for each crime type in both datasets."
   ]
  },
  {
   "cell_type": "markdown",
   "metadata": {},
   "source": [
    "## Are violent crimes increasing?\n",
    "Violent crimes are crimes that involve harming or threatening a victim with violence. They include rape and sexual assault, robbery and murder. For the purpose of this task, I have categorised the following crime types from the dataset as violent:\n",
    "\n",
    "1. Robbery\n",
    "2. Violence and sexual offences\n",
    "\n",
    "To answer this question, the following substasks were carried out:\n",
    "\n",
    "1. Filter out the above crime types.\n",
    "2. Create year column from the month column\n",
    "3. GroupBy year and count.\n",
    "4. Order the grouped data by month.\n",
    "5. Convert the dataframe of ordered data to pandas dataframe.\n",
    "6. Plot the data in a line plot to observe the trend of violent crimes."
   ]
  },
  {
   "cell_type": "code",
   "execution_count": 38,
   "metadata": {},
   "outputs": [
    {
     "name": "stdout",
     "output_type": "stream",
     "text": [
      "+--------+-------+--------------------+--------------------+---------+---------+--------------------+---------+--------------------+----------+---------------------+-------+\n",
      "|Crime ID|  Month|         Reported by|        Falls within|Longitude| Latitude|            Location|LSOA code|           LSOA name|Crime type|Last outcome category|Context|\n",
      "+--------+-------+--------------------+--------------------+---------+---------+--------------------+---------+--------------------+----------+---------------------+-------+\n",
      "|    null|2010-12|Avon and Somerset...|Avon and Somerset...|-2.511019|51.405366|On or near Oak Tr...|E01014402|Bath and North Ea...|   Robbery|                 null|   null|\n",
      "|    null|2010-12|Avon and Somerset...|Avon and Somerset...|-2.361416|51.381448|On or near Westga...|E01014370|Bath and North Ea...|   Robbery|                 null|   null|\n",
      "|    null|2010-12|Avon and Somerset...|Avon and Somerset...|-2.357056|51.378871|On or near Manver...|E01014371|Bath and North Ea...|   Robbery|                 null|   null|\n",
      "|    null|2010-12|Avon and Somerset...|Avon and Somerset...|-2.369759|51.382671|On or near Norfol...|E01033080|Bath and North Ea...|   Robbery|                 null|   null|\n",
      "|    null|2010-12|Avon and Somerset...|Avon and Somerset...|-2.390318|51.377111|On or near Long H...|E01014461|Bath and North Ea...|   Robbery|                 null|   null|\n",
      "+--------+-------+--------------------+--------------------+---------+---------+--------------------+---------+--------------------+----------+---------------------+-------+\n",
      "only showing top 5 rows\n",
      "\n"
     ]
    }
   ],
   "source": [
    "# filter out robbery, and violence and sexual offences\n",
    "\n",
    "vio_cr = df.filter((df['crime type'] == 'Robbery') | (df['crime type'] == 'Violence and sexual offences'))\n",
    "vio_cr.show(5)"
   ]
  },
  {
   "cell_type": "markdown",
   "metadata": {},
   "source": [
    ".filter() method was used to filter out required crime types, the '|' symbol represents 'or', which translates to filter crime_type 'Robbery' or 'Violence and sexual offences'."
   ]
  },
  {
   "cell_type": "code",
   "execution_count": 50,
   "metadata": {},
   "outputs": [
    {
     "name": "stdout",
     "output_type": "stream",
     "text": [
      "+-----------+\n",
      "|year(Month)|\n",
      "+-----------+\n",
      "|       2010|\n",
      "|       2010|\n",
      "|       2010|\n",
      "|       2010|\n",
      "|       2010|\n",
      "+-----------+\n",
      "only showing top 5 rows\n",
      "\n"
     ]
    }
   ],
   "source": [
    "# create year column from month\n",
    "from pyspark.sql.functions import year\n",
    "viol_year = vio_cr.select(year(vio_cr['Month']))\n",
    "viol_year.show(5)"
   ]
  },
  {
   "cell_type": "code",
   "execution_count": 54,
   "metadata": {},
   "outputs": [],
   "source": [
    "## groupby year and count\n",
    "viol_year_cnt = viol_year.groupBy('year(Month)').count().orderBy('year(Month)')"
   ]
  },
  {
   "cell_type": "code",
   "execution_count": 55,
   "metadata": {},
   "outputs": [
    {
     "data": {
      "text/html": [
       "<div>\n",
       "<style scoped>\n",
       "    .dataframe tbody tr th:only-of-type {\n",
       "        vertical-align: middle;\n",
       "    }\n",
       "\n",
       "    .dataframe tbody tr th {\n",
       "        vertical-align: top;\n",
       "    }\n",
       "\n",
       "    .dataframe thead th {\n",
       "        text-align: right;\n",
       "    }\n",
       "</style>\n",
       "<table border=\"1\" class=\"dataframe\">\n",
       "  <thead>\n",
       "    <tr style=\"text-align: right;\">\n",
       "      <th></th>\n",
       "      <th>year(Month)</th>\n",
       "      <th>count</th>\n",
       "    </tr>\n",
       "  </thead>\n",
       "  <tbody>\n",
       "    <tr>\n",
       "      <th>0</th>\n",
       "      <td>2010</td>\n",
       "      <td>5731</td>\n",
       "    </tr>\n",
       "    <tr>\n",
       "      <th>1</th>\n",
       "      <td>2011</td>\n",
       "      <td>75068</td>\n",
       "    </tr>\n",
       "    <tr>\n",
       "      <th>2</th>\n",
       "      <td>2012</td>\n",
       "      <td>68042</td>\n",
       "    </tr>\n",
       "    <tr>\n",
       "      <th>3</th>\n",
       "      <td>2013</td>\n",
       "      <td>538361</td>\n",
       "    </tr>\n",
       "    <tr>\n",
       "      <th>4</th>\n",
       "      <td>2014</td>\n",
       "      <td>891937</td>\n",
       "    </tr>\n",
       "  </tbody>\n",
       "</table>\n",
       "</div>"
      ],
      "text/plain": [
       "   year(Month)   count\n",
       "0         2010    5731\n",
       "1         2011   75068\n",
       "2         2012   68042\n",
       "3         2013  538361\n",
       "4         2014  891937"
      ]
     },
     "execution_count": 55,
     "metadata": {},
     "output_type": "execute_result"
    }
   ],
   "source": [
    "## Convert the counted data to pandas dataframe\n",
    "viol_year_cntpd = viol_year_cnt.toPandas()\n",
    "viol_year_cntpd.head()"
   ]
  },
  {
   "cell_type": "markdown",
   "metadata": {},
   "source": [
    "Convert pyspark dataframe to pandas dataframe using .toPandas() method."
   ]
  },
  {
   "cell_type": "code",
   "execution_count": 68,
   "metadata": {},
   "outputs": [],
   "source": [
    "rolmean = viol_year_cntpd['count'].rolling(2).mean()"
   ]
  },
  {
   "cell_type": "code",
   "execution_count": 69,
   "metadata": {},
   "outputs": [
    {
     "data": {
      "image/png": "[encoded data removed]",
      "text/plain": [
       "<Figure size 432x288 with 1 Axes>"
      ]
     },
     "metadata": {
      "needs_background": "light"
     },
     "output_type": "display_data"
    }
   ],
   "source": [
    "## Time series plot for violent crime\n",
    "fig, ax = plt.subplots()\n",
    "ax.plot(viol_year_cntpd['year(Month)'], viol_year_cntpd['count'], marker = 'o', label = 'Original')\n",
    "ax.plot(viol_year_cntpd['year(Month)'], rolmean, color = 'r', label = 'Rolmean')\n",
    "ax.set_title('Time series plot for violent crime')\n",
    "ax.tick_params(axis='x', labelrotation = 90)\n",
    "plt.legend(loc='best')\n",
    "plt.show()"
   ]
  },
  {
   "cell_type": "markdown",
   "metadata": {},
   "source": [
    "Rolling mean was applied to the time series plot to smooth out short-term fluctuations and highlight long-term trends. Apart from the basic line plot functions used, some options were added to rotate x-axis tick, add colours and labels"
   ]
  },
  {
   "cell_type": "markdown",
   "metadata": {},
   "source": [
    "### Are there more firearms incidents per head in Birmingham than anywhere else in the UK?"
   ]
  },
  {
   "cell_type": "markdown",
   "metadata": {},
   "source": [
    "To carry out this task I focused on the crime_type, \"Possession of weapons\". The subtasks include:\n",
    "\n",
    "1. Filter out the crime type = \"Possession of weapons\".\n",
    "2. Join the already filtered data with English Indices of Deprivation and Population data by LSOA.\n",
    "3. Select only required columns.\n",
    "4. Carry out groupBy and Sum operations on population variable in filtered data, to get total population per city.\n",
    "5. Carry out groupBy and count on filtered data to get total fire arm incident per city\n",
    "6. Join both grouped data.\n",
    "7. Create new column to calculate Incident per head.\n",
    "8. Orderby the newly created column in descending order\n",
    "\n",
    "I assumed that weapons in the dataset is same as firearms."
   ]
  },
  {
   "cell_type": "code",
   "execution_count": 70,
   "metadata": {},
   "outputs": [
    {
     "name": "stdout",
     "output_type": "stream",
     "text": [
      "+--------------------+-------+--------------------+--------------------+---------+---------+--------------------+---------+--------------------+--------------------+---------------------+-------+\n",
      "|            Crime ID|  Month|         Reported by|        Falls within|Longitude| Latitude|            Location|LSOA code|           LSOA name|          Crime type|Last outcome category|Context|\n",
      "+--------------------+-------+--------------------+--------------------+---------+---------+--------------------+---------+--------------------+--------------------+---------------------+-------+\n",
      "|9c68ace1c9a77a7f4...|2013-05|Avon and Somerset...|Avon and Somerset...|-2.351833|51.398435|On or near Bay Tr...|E01014410|Bath and North Ea...|Possession of wea...| Offender given a ...|   null|\n",
      "|05c3e05b387d09ced...|2013-05|Avon and Somerset...|Avon and Somerset...| -2.36554|51.388682|On or near Harley...|E01033080|Bath and North Ea...|Possession of wea...| Offender given co...|   null|\n",
      "|86a6b4fa4cd295144...|2013-05|Avon and Somerset...|Avon and Somerset...| -2.62896|51.511784|On or near Statio...|E01014602|        Bristol 001B|Possession of wea...| Offender given su...|   null|\n",
      "|85c545a809f12fd4e...|2013-05|Avon and Somerset...|Avon and Somerset...|-2.661301|51.500222|On or near Goldsb...|E01014638|        Bristol 003C|Possession of wea...| Offender given a ...|   null|\n",
      "|0b3b9b6734d5d39e0...|2013-05|Avon and Somerset...|Avon and Somerset...|-2.595297|51.490694|On or near Wellin...|E01014636|        Bristol 004D|Possession of wea...| Offender sent to ...|   null|\n",
      "+--------------------+-------+--------------------+--------------------+---------+---------+--------------------+---------+--------------------+--------------------+---------------------+-------+\n",
      "only showing top 5 rows\n",
      "\n"
     ]
    }
   ],
   "source": [
    "## Filter for possession of weapon\n",
    "fire = df.filter(df['crime type'] == 'Possession of weapons')\n",
    "fire.show(5)"
   ]
  },
  {
   "cell_type": "code",
   "execution_count": 72,
   "metadata": {},
   "outputs": [
    {
     "data": {
      "text/plain": [
       "Row(LSOA CODE='E01000001', PRE 2009 LA CODE='00AA', PRE 2009 LA NAME='City of London', POST 2009 LA CODE='00AA', POST 2009 LA NAME='City of London', GOR CODE='H', GOR NAME='London', IMD SCORE=6.16, RANK OF IMD SCORE (where 1 is most deprived)=28814, INCOME SCORE=0.01, RANK OF INCOME SCORE (where 1 is most deprived)=32460, EMPLOYMENT SCORE=0.01, RANK OF EMPLOYMENT SCORE (where 1 is most deprived)=32435, HEALTH DEPRIVATION AND DISABILITY SCORE=-2.11, RANK OF HEALTH DEPRIVATION AND DISABILITY SCORE (where 1 is most deprived)=32332, EDUCATION SKILLS AND TRAINING SCORE=0.21, RANK OF EDUCATION SKILLS AND TRAINING SCORE (where 1 is most deprived)=32421, BARRIERS TO HOUSING AND SERVICES SCORE=32.6, RANK OF BARRIERS TO HOUSING AND SERVICES SCORE (where 1 is most deprived)=5491, CRIME AND DISORDER SCORE=-1.64, RANK OF CRIME SCORE (where 1 is most deprived)=31816, LIVING ENVIRONMENT SCORE=26.28, RANK OF LIVING ENVIRONMENT SCORE (where 1 is most deprived)=10212, Indoors Sub-domain Score=20.76, Indoors Sub-domain Rank (where 1 is most deprived)=12921, Outdoors Sub-domain Score=37.32, Outdoors Sub-domain Rank (where 1 is most deprived)=6070, Geographical Barriers Sub-domain Score=6.2, Geographical Barriers Sub-domain Rank (where 1 is most deprived)=24711, Wider Barriers Sub-domain Score=59.01, Wider Barriers Sub-domain Rank (where 1 is most deprived)=2105, Children/Young People Sub-domain Score=0.41, Children/Young People Sub-domain Rank (where 1 is most deprived)=31905, Skills Sub-domain Score=0.01, Skills Sub-domain Rank (where 1 is most deprived)=32462, IDACI score=0.04, Rank of IDACI (where 1 is most deprived)=28761, IDAOPI score=0.0, Rank of IDAOPI (where 1 is most deprived)=32456)"
      ]
     },
     "execution_count": 72,
     "metadata": {},
     "output_type": "execute_result"
    }
   ],
   "source": [
    "# Join the fire arms dataset with the deprivation_hdr and LSOA_pop_v2 dataset\n",
    "## Import the datasets\n",
    "depr = spark.read.load(\"deprivation_with_hdr.csv\", \n",
    "                         header = True, inferSchema = True, format = 'csv', sep = ',')\n",
    "depr.head(2)[0]"
   ]
  },
  {
   "cell_type": "code",
   "execution_count": 73,
   "metadata": {},
   "outputs": [
    {
     "data": {
      "text/plain": [
       "Row(date=2011, geography='Darlington 001B', geography code='E01012334', Rural Urban='Total', Variable: All usual residents; measures: Value=2466, Variable: Males; measures: Value=1220, Variable: Females; measures: Value=1246, Variable: Lives in a household; measures: Value=2466, Variable: Lives in a communal establishment; measures: Value=0, Variable: Schoolchild or full-time student aged 4 and over at their non term-time address; measures: Value=42, Variable: Area (Hectares); measures: Value=6033.58, Variable: Density (number of persons per hectare); measures: Value=0.4)"
      ]
     },
     "execution_count": 73,
     "metadata": {},
     "output_type": "execute_result"
    }
   ],
   "source": [
    "lsoa_pop = spark.read.load(\"LSOA_pop_v2.csv\", \n",
    "                         header = True, inferSchema = True, format = 'csv', sep = ',')\n",
    "lsoa_pop.head(2)[0]"
   ]
  },
  {
   "cell_type": "code",
   "execution_count": 77,
   "metadata": {},
   "outputs": [],
   "source": [
    "## Rename the columns needed to join dataset and some other columns\n",
    "depr_2 = depr.withColumnRenamed('PRE 2009 LA NAME', 'City_name')\n",
    "lsoa_pop_2 = lsoa_pop.withColumnRenamed('geography code', 'LSOA code').withColumnRenamed('Variable: All usual residents; measures: Value', 'Population')"
   ]
  },
  {
   "cell_type": "markdown",
   "metadata": {},
   "source": [
    "Since the datasets will be joined on the LSOA code, it makes sense to rename the corresponding columns of the newly imported datasets. The .withColumnRenamed() method was used for this purpose."
   ]
  },
  {
   "cell_type": "code",
   "execution_count": 78,
   "metadata": {},
   "outputs": [
    {
     "data": {
      "text/plain": [
       "['LSOA code',\n",
       " 'Crime ID',\n",
       " 'Month',\n",
       " 'Reported by',\n",
       " 'Falls within',\n",
       " 'Longitude',\n",
       " 'Latitude',\n",
       " 'Location',\n",
       " 'LSOA name',\n",
       " 'Crime type',\n",
       " 'Last outcome category',\n",
       " 'Context',\n",
       " 'PRE 2009 LA CODE',\n",
       " 'City_name',\n",
       " 'POST 2009 LA CODE',\n",
       " 'POST 2009 LA NAME',\n",
       " 'GOR CODE',\n",
       " 'GOR NAME',\n",
       " 'IMD SCORE',\n",
       " 'RANK OF IMD SCORE (where 1 is most deprived)',\n",
       " 'INCOME SCORE',\n",
       " 'RANK OF INCOME SCORE (where 1 is most deprived)',\n",
       " 'EMPLOYMENT SCORE',\n",
       " 'RANK OF EMPLOYMENT SCORE (where 1 is most deprived)',\n",
       " 'HEALTH DEPRIVATION AND DISABILITY SCORE',\n",
       " 'RANK OF HEALTH DEPRIVATION AND DISABILITY SCORE (where 1 is most deprived)',\n",
       " 'EDUCATION SKILLS AND TRAINING SCORE',\n",
       " 'RANK OF EDUCATION SKILLS AND TRAINING SCORE (where 1 is most deprived)',\n",
       " 'BARRIERS TO HOUSING AND SERVICES SCORE',\n",
       " 'RANK OF BARRIERS TO HOUSING AND SERVICES SCORE (where 1 is most deprived)',\n",
       " 'CRIME AND DISORDER SCORE',\n",
       " 'RANK OF CRIME SCORE (where 1 is most deprived)',\n",
       " 'LIVING ENVIRONMENT SCORE',\n",
       " 'RANK OF LIVING ENVIRONMENT SCORE (where 1 is most deprived)',\n",
       " 'Indoors Sub-domain Score',\n",
       " 'Indoors Sub-domain Rank (where 1 is most deprived)',\n",
       " 'Outdoors Sub-domain Score',\n",
       " 'Outdoors Sub-domain Rank (where 1 is most deprived)',\n",
       " 'Geographical Barriers Sub-domain Score',\n",
       " 'Geographical Barriers Sub-domain Rank (where 1 is most deprived)',\n",
       " 'Wider Barriers Sub-domain Score',\n",
       " 'Wider Barriers Sub-domain Rank (where 1 is most deprived)',\n",
       " 'Children/Young People Sub-domain Score',\n",
       " 'Children/Young People Sub-domain Rank (where 1 is most deprived)',\n",
       " 'Skills Sub-domain Score',\n",
       " 'Skills Sub-domain Rank (where 1 is most deprived)',\n",
       " 'IDACI score',\n",
       " 'Rank of IDACI (where 1 is most deprived)',\n",
       " 'IDAOPI score',\n",
       " 'Rank of IDAOPI (where 1 is most deprived)',\n",
       " 'date',\n",
       " 'geography',\n",
       " 'Rural Urban',\n",
       " 'Population',\n",
       " 'Variable: Males; measures: Value',\n",
       " 'Variable: Females; measures: Value',\n",
       " 'Variable: Lives in a household; measures: Value',\n",
       " 'Variable: Lives in a communal establishment; measures: Value',\n",
       " 'Variable: Schoolchild or full-time student aged 4 and over at their non term-time address; measures: Value',\n",
       " 'Variable: Area (Hectares); measures: Value',\n",
       " 'Variable: Density (number of persons per hectare); measures: Value']"
      ]
     },
     "execution_count": 78,
     "metadata": {},
     "output_type": "execute_result"
    }
   ],
   "source": [
    "## Join the 3 datasets\n",
    "join_ = fire.join(depr_2, on = ['LSOA code'], how = 'left').join(lsoa_pop_2, on = ['LSOA code'], how = 'left')\n",
    "\n",
    "##Inspect the columns\n",
    "join_.columns"
   ]
  },
  {
   "cell_type": "markdown",
   "metadata": {},
   "source": [
    "The three Datasets were left joined on the LSOA_code column. The .columns attribute was used to display all the columns of the joined datasets. Alot of useless columns right?\n"
   ]
  },
  {
   "cell_type": "code",
   "execution_count": 79,
   "metadata": {},
   "outputs": [
    {
     "name": "stdout",
     "output_type": "stream",
     "text": [
      "+---------+-------+--------------------+----------+\n",
      "|LSOA code|  Month|           City_name|Population|\n",
      "+---------+-------+--------------------+----------+\n",
      "|E01014410|2013-05|Bath and North Ea...|      1770|\n",
      "|E01033080|2013-05|                null|      2205|\n",
      "|E01014602|2013-05|    Bristol, City of|      1841|\n",
      "|E01014638|2013-05|    Bristol, City of|      1624|\n",
      "|E01014636|2013-05|    Bristol, City of|      1496|\n",
      "|E01014642|2013-05|    Bristol, City of|      1449|\n",
      "|E01014618|2013-05|    Bristol, City of|      1547|\n",
      "|E01014508|2013-05|    Bristol, City of|      1722|\n",
      "|E01014624|2013-05|    Bristol, City of|      1738|\n",
      "|E01014629|2013-05|    Bristol, City of|      1477|\n",
      "|E01014485|2013-05|    Bristol, City of|      1817|\n",
      "|E01014489|2013-05|    Bristol, City of|      2403|\n",
      "|E01014551|2013-05|    Bristol, City of|      1781|\n",
      "|E01014531|2013-05|    Bristol, City of|      1661|\n",
      "|E01014536|2013-05|    Bristol, City of|      1437|\n",
      "|E01014581|2013-05|    Bristol, City of|      1529|\n",
      "|E01014655|2013-05|    Bristol, City of|      2365|\n",
      "|E01014655|2013-05|    Bristol, City of|      2365|\n",
      "|E01029034|2013-05|              Mendip|      1373|\n",
      "|E01029047|2013-05|              Mendip|      1498|\n",
      "+---------+-------+--------------------+----------+\n",
      "only showing top 20 rows\n",
      "\n"
     ]
    }
   ],
   "source": [
    "## Select only useful columns\n",
    "join_final = join_.select(['LSOA code','Month','City_name','Population'])\n",
    "join_final.show()"
   ]
  },
  {
   "cell_type": "code",
   "execution_count": 80,
   "metadata": {},
   "outputs": [],
   "source": [
    "## Sum the the population and group by city \n",
    "sum_ = join_final.groupBy('City_name').sum('Population')\n",
    "## Count the cities with the highest weapons crime\n",
    "cnt = join_final.groupBy('City_name').count()"
   ]
  },
  {
   "cell_type": "markdown",
   "metadata": {},
   "source": [
    "groupBy() and .sum() pair were used to get total population by city.\n",
    "\n",
    "groupBy() and .count() pair were used to get crime incident count by city."
   ]
  },
  {
   "cell_type": "code",
   "execution_count": 81,
   "metadata": {},
   "outputs": [
    {
     "name": "stdout",
     "output_type": "stream",
     "text": [
      "+---------------+---------------+-----+\n",
      "|      City_name|sum(Population)|count|\n",
      "+---------------+---------------+-----+\n",
      "|North Wiltshire|         215331|  133|\n",
      "|      Worcester|         386707|  242|\n",
      "|      Charnwood|         570329|  323|\n",
      "| North Kesteven|         115353|   68|\n",
      "|           Arun|         736921|  437|\n",
      "|  Epping Forest|         436337|  263|\n",
      "|        Waveney|         453110|  285|\n",
      "| North Cornwall|         214065|  127|\n",
      "|         Stroud|         182027|   96|\n",
      "|         Maldon|         112011|   70|\n",
      "|     New Forest|         456950|  290|\n",
      "|      Sedgemoor|         235882|  143|\n",
      "|      Guildford|         478571|  277|\n",
      "|St. Edmundsbury|         437669|  242|\n",
      "|       Worthing|         694973|  396|\n",
      "|        Fareham|         252658|  161|\n",
      "|         Bolton|        1459160|  900|\n",
      "| North Tyneside|         922030|  594|\n",
      "|   Surrey Heath|         148113|   94|\n",
      "| Wellingborough|         466188|  288|\n",
      "+---------------+---------------+-----+\n",
      "only showing top 20 rows\n",
      "\n"
     ]
    }
   ],
   "source": [
    "## join both count and sum tables\n",
    "cnt_sum = sum_.join(cnt, on = ['City_name'], how = 'left')\n",
    "cnt_sum.show()"
   ]
  },
  {
   "cell_type": "code",
   "execution_count": 82,
   "metadata": {},
   "outputs": [
    {
     "name": "stdout",
     "output_type": "stream",
     "text": [
      "+---------------+---------------+-----+--------------------+\n",
      "|      City_name|sum(Population)|count|     Weapon_per_head|\n",
      "+---------------+---------------+-----+--------------------+\n",
      "|North Wiltshire|         215331|  133|6.176537516660398E-4|\n",
      "|      Worcester|         386707|  242|6.257967918863635E-4|\n",
      "|      Charnwood|         570329|  323|5.663397793203572E-4|\n",
      "| North Kesteven|         115353|   68|5.894948549235824E-4|\n",
      "|           Arun|         736921|  437|5.930079343647419E-4|\n",
      "|  Epping Forest|         436337|  263|6.027451259003935E-4|\n",
      "|        Waveney|         453110|  285|6.289863388581139E-4|\n",
      "| North Cornwall|         214065|  127|5.932777427416907E-4|\n",
      "|         Stroud|         182027|   96|5.273942876606218E-4|\n",
      "|         Maldon|         112011|   70|6.249386220996152E-4|\n",
      "|     New Forest|         456950|  290|6.346427399058978E-4|\n",
      "|      Sedgemoor|         235882|  143|6.062353210503557E-4|\n",
      "|      Guildford|         478571|  277|5.788064884834225E-4|\n",
      "|St. Edmundsbury|         437669|  242|5.529292684654385E-4|\n",
      "|       Worthing|         694973|  396|5.698063090220771E-4|\n",
      "|        Fareham|         252658|  161|6.372250235496204E-4|\n",
      "|         Bolton|        1459160|  900|6.167932234984511E-4|\n",
      "| North Tyneside|         922030|  594| 6.44230664945826E-4|\n",
      "|   Surrey Heath|         148113|   94|6.346505708479337E-4|\n",
      "| Wellingborough|         466188|  288|6.177765193441273E-4|\n",
      "+---------------+---------------+-----+--------------------+\n",
      "only showing top 20 rows\n",
      "\n"
     ]
    }
   ],
   "source": [
    "## Create column to get incident per head\n",
    "wph = cnt_sum.withColumn('Weapon_per_head', cnt_sum['count']/cnt_sum['sum(Population)'])\n",
    "wph.show()"
   ]
  },
  {
   "cell_type": "markdown",
   "metadata": {},
   "source": [
    "To create weapons_per_head column for each city, the count columns had to be divided by the population column."
   ]
  },
  {
   "cell_type": "code",
   "execution_count": 83,
   "metadata": {},
   "outputs": [
    {
     "name": "stdout",
     "output_type": "stream",
     "text": [
      "+-----------------+---------------+-----+--------------------+\n",
      "|        City_name|sum(Population)|count|     Weapon_per_head|\n",
      "+-----------------+---------------+-----+--------------------+\n",
      "|   City of London|          32874|   27| 8.21317758715094E-4|\n",
      "|Barrow-in-Furness|         296128|  216|7.294143073265615E-4|\n",
      "|         Copeland|         163331|  115|7.040916911057913E-4|\n",
      "|         Oswestry|          78234|   55|7.030191476851496E-4|\n",
      "|            Corby|         394617|  273|6.918100335261785E-4|\n",
      "|        Easington|         235032|  162|6.892678443786378E-4|\n",
      "|            Fylde|          75577|   52|6.880400121730156E-4|\n",
      "|    Ribble Valley|          33602|   23|6.844830664841378E-4|\n",
      "|   North Somerset|         407791|  278|6.817217643351619E-4|\n",
      "|         Teesdale|          35272|   24|6.804264005443411E-4|\n",
      "|           Sefton|         842201|  573|  6.8036015155527E-4|\n",
      "|          Caradon|         125131|   85|6.792881060648441E-4|\n",
      "|   South Tyneside|         789667|  536|6.787671258897738E-4|\n",
      "|       St. Helens|         651566|  442|6.783656605777466E-4|\n",
      "|        Blackpool|         592685|  400|6.748947585985811E-4|\n",
      "|         Solihull|         729671|  492|6.742764889929845E-4|\n",
      "|             Eden|          84705|   57|6.729236762882946E-4|\n",
      "|             Adur|         238486|  160|6.708989206913613E-4|\n",
      "|          Burnley|         284775|  191|6.707049424984637E-4|\n",
      "|        Broadland|         142805|   95|6.652428136269739E-4|\n",
      "+-----------------+---------------+-----+--------------------+\n",
      "only showing top 20 rows\n",
      "\n"
     ]
    }
   ],
   "source": [
    "## Orderby Weapon per head in descending order\n",
    "wph.orderBy(wph['Weapon_per_head'].desc()).show()"
   ]
  },
  {
   "cell_type": "markdown",
   "metadata": {},
   "source": [
    "Finally order the dataset by weapon_per_head column in descending order to find out the city with highest firearm incident per head"
   ]
  },
  {
   "cell_type": "code",
   "execution_count": 84,
   "metadata": {},
   "outputs": [
    {
     "name": "stdout",
     "output_type": "stream",
     "text": [
      "+-------------------+---------------+-----+--------------------+\n",
      "|          City_name|sum(Population)|count|     Weapon_per_head|\n",
      "+-------------------+---------------+-----+--------------------+\n",
      "|         Birmingham|        5185650| 3051|5.883544010876168E-4|\n",
      "|         Manchester|        4935230| 2655|5.379688484629895E-4|\n",
      "|         Uttlesford|        5955629| 2540|4.264872778341297E-4|\n",
      "|              Leeds|        2915391| 1804|6.187849245607193E-4|\n",
      "|          Sheffield|        2729002| 1674|6.134110564961111E-4|\n",
      "|            Lambeth|        2861353| 1631|5.700100616736209E-4|\n",
      "|        Westminster|        2853365| 1502| 5.26396027146895E-4|\n",
      "|         Nottingham|        2568980| 1489|5.796074706692929E-4|\n",
      "|           Bradford|        2629308| 1468|  5.5832180938863E-4|\n",
      "|          Liverpool|        2407203| 1394|5.790953234936978E-4|\n",
      "|           Kirklees|        2219397| 1249| 5.62765471882678E-4|\n",
      "|  Brighton and Hove|        2145202| 1248|5.817633957081897E-4|\n",
      "|            Croydon|        2221596| 1217|5.478043712718244E-4|\n",
      "|          Leicester|        2280364| 1210|5.306170418406886E-4|\n",
      "|          Southwark|        2149928| 1175|5.465299303046428E-4|\n",
      "|Newcastle upon Tyne|        1927430| 1140|5.914611684989856E-4|\n",
      "|            Dacorum|        1808714| 1102|6.092726655513254E-4|\n",
      "|          Stevenage|        1805073| 1062|5.883418565343341E-4|\n",
      "|             Newham|        2088374| 1046|5.008681395190708E-4|\n",
      "|          Doncaster|        1744915| 1030|5.902866328732345E-4|\n",
      "+-------------------+---------------+-----+--------------------+\n",
      "only showing top 20 rows\n",
      "\n"
     ]
    }
   ],
   "source": [
    "# Orderby count\n",
    "wph.orderBy(wph['count'].desc()).show()"
   ]
  },
  {
   "cell_type": "markdown",
   "metadata": {},
   "source": [
    "Also order by count, to find out the city with the highest crime rate"
   ]
  },
  {
   "cell_type": "markdown",
   "metadata": {},
   "source": [
    "### Are Crimes involving firearms closely associated with drugs offences?\n",
    "To solve this task, the correlation coefficient between both crime types must be calculated. The sub tasks are as follows:\n",
    "\n",
    "1. Filter out drug and firearms crime type separately.\n",
    "2. Group and count both crime types by month.\n",
    "3. Join both tables and order by month.\n",
    "4. Find the correlation coefficient of both count variables.\n",
    "5. Plot the data."
   ]
  },
  {
   "cell_type": "code",
   "execution_count": 88,
   "metadata": {},
   "outputs": [
    {
     "name": "stdout",
     "output_type": "stream",
     "text": [
      "+--------+-------+--------------------+--------------------+---------+---------+--------------------+---------+--------------------+----------+---------------------+-------+\n",
      "|Crime ID|  Month|         Reported by|        Falls within|Longitude| Latitude|            Location|LSOA code|           LSOA name|Crime type|Last outcome category|Context|\n",
      "+--------+-------+--------------------+--------------------+---------+---------+--------------------+---------+--------------------+----------+---------------------+-------+\n",
      "|    null|2011-09|Avon and Somerset...|Avon and Somerset...|   -2.507|51.408557|On or near Tenby ...|E01014404|Bath and North Ea...|     Drugs|                 null|   null|\n",
      "|    null|2011-09|Avon and Somerset...|Avon and Somerset...|-2.492186|51.413386|On or near Dragon...|E01014396|Bath and North Ea...|     Drugs|                 null|   null|\n",
      "|    null|2011-09|Avon and Somerset...|Avon and Somerset...|-2.483019|51.412705|On or near Bath Road|E01014398|Bath and North Ea...|     Drugs|                 null|   null|\n",
      "+--------+-------+--------------------+--------------------+---------+---------+--------------------+---------+--------------------+----------+---------------------+-------+\n",
      "only showing top 3 rows\n",
      "\n"
     ]
    }
   ],
   "source": [
    "## Filter crime type = Drugs\n",
    "dr = df.filter(df['crime type'] == 'Drugs')\n",
    "dr.show(3)"
   ]
  },
  {
   "cell_type": "code",
   "execution_count": 144,
   "metadata": {},
   "outputs": [
    {
     "name": "stdout",
     "output_type": "stream",
     "text": [
      "+-------+----------+\n",
      "|  month|count_fire|\n",
      "+-------+----------+\n",
      "|2013-05|      1810|\n",
      "|2013-06|      1735|\n",
      "|2013-07|      1939|\n",
      "|2013-08|      1836|\n",
      "|2013-09|      1767|\n",
      "+-------+----------+\n",
      "only showing top 5 rows\n",
      "\n"
     ]
    }
   ],
   "source": [
    "# Group the filtered fire arm table by month and count the number of incidents in each month\n",
    "fire_mon = fire.groupBy('month').count().withColumnRenamed('count', 'count_fire').orderBy('month')\n",
    "fire_mon.show(5)"
   ]
  },
  {
   "cell_type": "code",
   "execution_count": 145,
   "metadata": {},
   "outputs": [
    {
     "name": "stdout",
     "output_type": "stream",
     "text": [
      "+-------+----------+\n",
      "|  month|count_drug|\n",
      "+-------+----------+\n",
      "|2011-09|     16926|\n",
      "|2011-10|     18448|\n",
      "|2011-11|     18267|\n",
      "|2011-12|     17366|\n",
      "|2012-01|     18199|\n",
      "+-------+----------+\n",
      "only showing top 5 rows\n",
      "\n"
     ]
    }
   ],
   "source": [
    "# Group the filtered drug table by month and count the number of incidents in each month\n",
    "drug_mon = dr.groupBy('month').count().withColumnRenamed('count', 'count_drug').orderBy('month')\n",
    "drug_mon.show(5)"
   ]
  },
  {
   "cell_type": "code",
   "execution_count": 122,
   "metadata": {},
   "outputs": [
    {
     "name": "stdout",
     "output_type": "stream",
     "text": [
      "+-------+----------+----------+\n",
      "|  month|count_drug|count_fire|\n",
      "+-------+----------+----------+\n",
      "|2013-05|     17128|      1810|\n",
      "|2013-06|     16685|      1735|\n",
      "|2013-07|     16793|      1939|\n",
      "|2013-08|     16290|      1836|\n",
      "|2013-09|     15128|      1767|\n",
      "+-------+----------+----------+\n",
      "only showing top 5 rows\n",
      "\n"
     ]
    }
   ],
   "source": [
    "## Use inner join to merge both tables using month as the column\n",
    "drug_fire_mon = drug_mon.join(fire_mon, on = ('month'), how = 'inner').orderBy('month')\n",
    "drug_fire_mon.show(5)"
   ]
  },
  {
   "cell_type": "code",
   "execution_count": 128,
   "metadata": {},
   "outputs": [
    {
     "name": "stdout",
     "output_type": "stream",
     "text": [
      "+-------+----------+----------+----+\n",
      "|  month|count_drug|count_fire|Year|\n",
      "+-------+----------+----------+----+\n",
      "|2013-05|     17128|      1810|2013|\n",
      "|2013-06|     16685|      1735|2013|\n",
      "|2013-07|     16793|      1939|2013|\n",
      "|2013-08|     16290|      1836|2013|\n",
      "|2013-09|     15128|      1767|2013|\n",
      "+-------+----------+----------+----+\n",
      "only showing top 5 rows\n",
      "\n"
     ]
    }
   ],
   "source": [
    "## Create a new column to extra year from the month column\n",
    "drug_fire_mon2 = drug_fire_mon.withColumn(('Year'), year(drug_fire_mon['month']))\n",
    "drug_fire_mon2.show(5)"
   ]
  },
  {
   "cell_type": "markdown",
   "metadata": {},
   "source": [
    "The year function imported earlier was used to create an extra column to indicate the year each month belonged to."
   ]
  },
  {
   "cell_type": "code",
   "execution_count": 129,
   "metadata": {},
   "outputs": [
    {
     "data": {
      "text/html": [
       "<div>\n",
       "<style scoped>\n",
       "    .dataframe tbody tr th:only-of-type {\n",
       "        vertical-align: middle;\n",
       "    }\n",
       "\n",
       "    .dataframe tbody tr th {\n",
       "        vertical-align: top;\n",
       "    }\n",
       "\n",
       "    .dataframe thead th {\n",
       "        text-align: right;\n",
       "    }\n",
       "</style>\n",
       "<table border=\"1\" class=\"dataframe\">\n",
       "  <thead>\n",
       "    <tr style=\"text-align: right;\">\n",
       "      <th></th>\n",
       "      <th>month</th>\n",
       "      <th>count_drug</th>\n",
       "      <th>count_fire</th>\n",
       "      <th>Year</th>\n",
       "    </tr>\n",
       "  </thead>\n",
       "  <tbody>\n",
       "    <tr>\n",
       "      <th>0</th>\n",
       "      <td>2013-05</td>\n",
       "      <td>17128</td>\n",
       "      <td>1810</td>\n",
       "      <td>2013</td>\n",
       "    </tr>\n",
       "    <tr>\n",
       "      <th>1</th>\n",
       "      <td>2013-06</td>\n",
       "      <td>16685</td>\n",
       "      <td>1735</td>\n",
       "      <td>2013</td>\n",
       "    </tr>\n",
       "    <tr>\n",
       "      <th>2</th>\n",
       "      <td>2013-07</td>\n",
       "      <td>16793</td>\n",
       "      <td>1939</td>\n",
       "      <td>2013</td>\n",
       "    </tr>\n",
       "    <tr>\n",
       "      <th>3</th>\n",
       "      <td>2013-08</td>\n",
       "      <td>16290</td>\n",
       "      <td>1836</td>\n",
       "      <td>2013</td>\n",
       "    </tr>\n",
       "    <tr>\n",
       "      <th>4</th>\n",
       "      <td>2013-09</td>\n",
       "      <td>15128</td>\n",
       "      <td>1767</td>\n",
       "      <td>2013</td>\n",
       "    </tr>\n",
       "  </tbody>\n",
       "</table>\n",
       "</div>"
      ],
      "text/plain": [
       "     month  count_drug  count_fire  Year\n",
       "0  2013-05       17128        1810  2013\n",
       "1  2013-06       16685        1735  2013\n",
       "2  2013-07       16793        1939  2013\n",
       "3  2013-08       16290        1836  2013\n",
       "4  2013-09       15128        1767  2013"
      ]
     },
     "execution_count": 129,
     "metadata": {},
     "output_type": "execute_result"
    }
   ],
   "source": [
    "## Convert the joined dataset to pandas dataframe\n",
    "drug_firepd = drug_fire_mon2.toPandas()\n",
    "drug_firepd.head(5)"
   ]
  },
  {
   "cell_type": "code",
   "execution_count": 141,
   "metadata": {},
   "outputs": [],
   "source": [
    "drug_firepd['Year'] = drug_firepd['Year'].astype('category') # convert the new column to a categorical variable"
   ]
  },
  {
   "cell_type": "code",
   "execution_count": 142,
   "metadata": {},
   "outputs": [
    {
     "data": {
      "text/plain": [
       "array([[ 1.        , -0.68078167],\n",
       "       [-0.68078167,  1.        ]])"
      ]
     },
     "execution_count": 142,
     "metadata": {},
     "output_type": "execute_result"
    }
   ],
   "source": [
    "## Correlation  of count_fire and count dr\n",
    "np.corrcoef(drug_firepd['count_fire'], drug_firepd['count_drug'])"
   ]
  },
  {
   "cell_type": "markdown",
   "metadata": {},
   "source": [
    "The corrcoef() function from Numpy library was used to create a correlation coefficient between both count variables over the year."
   ]
  },
  {
   "cell_type": "code",
   "execution_count": 143,
   "metadata": {},
   "outputs": [
    {
     "name": "stderr",
     "output_type": "stream",
     "text": [
      "C:\\Users\\Kelvin\\Anaconda3\\envs\\Data_science\\lib\\site-packages\\seaborn\\_decorators.py:36: FutureWarning: Pass the following variables as keyword args: x, y. From version 0.12, the only valid positional argument will be `data`, and passing other arguments without an explicit keyword will result in an error or misinterpretation.\n",
      "  warnings.warn(\n"
     ]
    },
    {
     "data": {
      "image/png": "[encoded data removed]",
      "text/plain": [
       "<Figure size 432x288 with 1 Axes>"
      ]
     },
     "metadata": {
      "needs_background": "light"
     },
     "output_type": "display_data"
    }
   ],
   "source": [
    "## Plot the relationship\n",
    "sns.scatterplot('count_drug','count_fire', data = drug_firepd, hue = 'Year').set(title = 'Relatonship between Drugs and Fire arms')\n",
    "plt.show()"
   ]
  },
  {
   "cell_type": "markdown",
   "metadata": {},
   "source": [
    "The scatterplot function from seaborn library was used to plot the relationship between Drugs and Fire arms crime count from 2013 to 2018"
   ]
  },
  {
   "cell_type": "markdown",
   "metadata": {},
   "source": [
    "# 5. Conclusion\n",
    "Results from the detailed analysis above answers the following questions:\n",
    "\n",
    "1. Are violent crimes increasing?\n",
    "There was a slight increase in violent crimes from 2010 but dropped just a little in 2012, after which violent crimes started increasing signficantly upto to 2017 where it decreased abruptly almost to same level where it was in 2015, this is suspected to be caused by incomplete data collected in 2018 where the crimes record stopped at July. The low crime rates before 2013 can be attributed to the fact that some crime categories were missing in those years. Excluding years before 2013 and 2018, it is safe to agree with Ross Kemp on this particular claim\n",
    "\n",
    "2. Are there more firearms incidents per head in Birmingham than anywhere else in the UK?\n",
    "Analysis from the dataset reveals that Birmingham is the top city with the most fire arms incident in UK. However a closer look at the dataset falsifies Ross'claim. Due to the large number of people living in Birmingham, the firearm per head rate has dropped drastically over the years.\n",
    "\n",
    "3. Are Crimes involving firearms closely associated with drugs offences?\n",
    "Analysis shows that there is a negative correlation between fire arms crimes and drugs related crimes which again falsifies Ross' claim. But looking at the shape of the graph, focusing on the top left corner, there seem to be a trend formed by the recent years (2017 and 2018), which shows a little positive relationship between both crime types. If this trends continues in the future there would be a strong association between drugs and firearms crimes."
   ]
  },
  {
   "cell_type": "code",
   "execution_count": null,
   "metadata": {},
   "outputs": [],
   "source": []
  }
 ],
 "metadata": {
  "kernelspec": {
   "display_name": "Python 3",
   "language": "python",
   "name": "python3"
  },
  "language_info": {
   "codemirror_mode": {
    "name": "ipython",
    "version": 3
   },
   "file_extension": ".py",
   "mimetype": "text/x-python",
   "name": "python",
   "nbconvert_exporter": "python",
   "pygments_lexer": "ipython3",
   "version": "3.7.5"
  }
 },
 "nbformat": 4,
 "nbformat_minor": 4
}
